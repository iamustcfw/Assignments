{
 "cells": [
  {
   "cell_type": "code",
   "execution_count": 9,
   "metadata": {},
   "outputs": [
    {
     "name": "stdout",
     "output_type": "stream",
     "text": [
      "[[  7.3890561    7.3890561    7.3890561 ]\n",
      " [ 54.59815003  54.59815003  54.59815003]\n",
      " [403.42879349 403.42879349 403.42879349]]\n"
     ]
    }
   ],
   "source": [
    "import numpy as np\n",
    "\n",
    "x = [[1, 2, 3], [1, 2, 3]]\n",
    "y = [[1, 1, 1], [1, 1, 1]]\n",
    "x = np.asarray(x)\n",
    "y = np.asarray(y)\n",
    "m = np.dot(x.T, y)\n",
    "m = np.exp(m)\n",
    "print(m)"
   ]
  }
 ],
 "metadata": {
  "kernelspec": {
   "display_name": "base",
   "language": "python",
   "name": "python3"
  },
  "language_info": {
   "codemirror_mode": {
    "name": "ipython",
    "version": 3
   },
   "file_extension": ".py",
   "mimetype": "text/x-python",
   "name": "python",
   "nbconvert_exporter": "python",
   "pygments_lexer": "ipython3",
   "version": "3.9.13"
  }
 },
 "nbformat": 4,
 "nbformat_minor": 2
}
