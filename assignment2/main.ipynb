{
 "cells": [
  {
   "cell_type": "code",
   "execution_count": 15,
   "metadata": {},
   "outputs": [],
   "source": [
    "import numpy as np\n",
    "from matplotlib import pyplot as plt"
   ]
  },
  {
   "cell_type": "markdown",
   "metadata": {},
   "source": [
    "# generate data"
   ]
  },
  {
   "cell_type": "code",
   "execution_count": 16,
   "metadata": {},
   "outputs": [],
   "source": [
    "# In real-world scenarios, learning how the data was generated is impractical. Do not rely on this function while doing research.\n",
    "def generate_data(dim, num):\n",
    "    x = np.random.normal(0, 10, [num, dim])\n",
    "    coef = np.random.uniform(-1, 1, [dim, 1])\n",
    "    pred = np.dot(x, coef)\n",
    "    pred_n = (pred - np.mean(pred)) / np.sqrt(np.var(pred))\n",
    "    label = np.sign(pred_n)\n",
    "    mislabel_value = np.random.uniform(0, 1, num)\n",
    "    mislabel = 0\n",
    "    for i in range(num):\n",
    "        if np.abs(pred_n[i]) < 1 and mislabel_value[i] > 0.9 + 0.1 * np.abs(pred_n[i]):\n",
    "            label[i] *= -1\n",
    "            mislabel += 1\n",
    "    return x, label, mislabel/num"
   ]
  },
  {
   "cell_type": "code",
   "execution_count": 17,
   "metadata": {},
   "outputs": [],
   "source": [
    "# example\n",
    "x, y, mr = generate_data(5, 100)"
   ]
  },
  {
   "cell_type": "code",
   "execution_count": 18,
   "metadata": {},
   "outputs": [
    {
     "data": {
      "text/plain": [
       "(array([[  5.29079431,  -3.3627978 ,  31.93934154,   5.08024067,\n",
       "         -13.32447039],\n",
       "        [  4.14916846,   7.53004446,   5.97999427,   3.12153998,\n",
       "           0.88138023],\n",
       "        [ -4.89788326,  14.78885012, -12.31736587,  -1.83108978,\n",
       "           3.00178278],\n",
       "        [ -6.73989979,  -6.35359104,  17.21069401, -17.51539626,\n",
       "         -16.18352634],\n",
       "        [ -2.99461062,  10.82330749,   1.194816  ,  12.49102016,\n",
       "          -4.3336668 ]]),\n",
       " array([[ 1.],\n",
       "        [-1.],\n",
       "        [-1.],\n",
       "        [ 1.],\n",
       "        [-1.]]))"
      ]
     },
     "execution_count": 18,
     "metadata": {},
     "output_type": "execute_result"
    }
   ],
   "source": [
    "x[:5], y[:5]"
   ]
  },
  {
   "cell_type": "markdown",
   "metadata": {},
   "source": [
    "# write your model class"
   ]
  },
  {
   "cell_type": "code",
   "execution_count": 19,
   "metadata": {},
   "outputs": [],
   "source": [
    "# Modifying the overall structure is acceptable but not recommended\n",
    "\n",
    "class SVM1:\n",
    "\tdef __init__(self, dim, plot = 1, C=1, lr=0.00001, max_iter=1000, tol=1e-2):\n",
    "\t\t# self.w = np.zeros(dim)\n",
    "\t\t# self.b = 0\n",
    "\t\tself.w = np.zeros((dim + 1, 1))\n",
    "\t\tself.C = C\n",
    "\t\tself.lr = lr\n",
    "\t\tself.max_iter = max_iter\n",
    "\t\tself.tol = tol\n",
    "\t\tself.plot = plot\n",
    "\n",
    "\tdef compute_loss(self, X, y):\n",
    "\n",
    "\t\tdistances = 1 - y * (np.dot(X, self.w))\n",
    "\t\tdistances[distances < 0] = 0  # Max(0, distances)\n",
    "\t\thinge_loss = self.C * np.sum(distances)\n",
    "\t\treturn 0.5 * np.dot(self.w.T, self.w) + hinge_loss\n",
    "\n",
    "\tdef compute_gradient(self, X, y):\n",
    "\n",
    "\t\tdistances = 1 - y * (np.dot(X, self.w))\n",
    "\t\tdistances[distances < 0] = 0\n",
    "\t\tdistances[distances > 0] = 1\n",
    "\n",
    "\t\t# 计算权重梯度\n",
    "\t\tdw = self.w - self.C * (y.T @ (distances * X)).T # (X.T @ (distances * y))\n",
    "\t\t# 计算偏置梯度\n",
    "\t\t# db = -self.C * np.sum(distances * y)\n",
    "\n",
    "\t\treturn dw\n",
    "\n",
    "\n",
    "\tdef fit(self, X, y):\n",
    "\t\tX = np.hstack((X, np.ones((X.shape[0], 1))))\n",
    "\t\ty = np.where(y <= 0, -1, 1)  # Convert labels to -1 or 1\n",
    "\t\tprev_loss = -1\n",
    "\t\tloss_t = []\n",
    "\t\tfor _ in range(self.max_iter):\n",
    "\t\t\tdw = self.compute_gradient(X, y)\n",
    "\t\t\tself.w -= self.lr * dw\n",
    "\t\t\t# self.b -= self.lr * db\n",
    "\n",
    "\t\t\tloss = self.compute_loss(X, y)[0][0]\n",
    "\n",
    "\t\t\tif _ > 0 and np.abs(loss - prev_loss) < self.tol:\n",
    "\t\t\t\tbreak\n",
    "\t\t\tprev_loss = loss\n",
    "\t\t\tloss_t.append(loss)\n",
    "\t\t\t\n",
    "\t\tif(self.plot):\t\n",
    "\t\t\tfig, ax = plt.subplots(figsize=(10,6))\n",
    "\t\t\tax.plot(np.arange(len(loss_t)), loss_t)\n",
    "\t\t\tax.set_xlabel('Iterations')\n",
    "\t\t\tax.set_ylabel('Loss')\n",
    "\t\t\tax.set_title('Loss Curve')\n",
    "\t\t\tplt.show()\n",
    "\t\t\n",
    "\tdef predict(self, X):\n",
    "\n",
    "\t\tX = np.hstack((X, np.ones((X.shape[0], 1))))\n",
    "\t\treturn np.sign(np.dot(X, self.w))\n",
    "\t\n",
    "\tdef score(self, X, y):\n",
    "\n",
    "\t\tpredictions = self.predict(X)\n",
    "\t\treturn np.mean(predictions == y)    \n",
    "\t\n",
    "    \n"
   ]
  },
  {
   "cell_type": "code",
   "execution_count": 20,
   "metadata": {},
   "outputs": [],
   "source": [
    "class SVM2:\n",
    "\tdef __init__(self, dim, plot = 1, C=1.0, max_iter=500, epsilon=0.03):\n",
    "\t\tself.C = C\n",
    "\t\tself.max_iter = max_iter\n",
    "\t\tself.epsilon = epsilon\n",
    "\t\tself.alpha = None\n",
    "\t\tself.b = 0\n",
    "\t\tself.w = None\n",
    "\t\tself.dim = dim\n",
    "\t\tself.plot = plot\n",
    "\n",
    "\tdef fit(self, X, y):\n",
    "\t\tn_samples, n_features = X.shape\n",
    "\t\tself.alpha = np.zeros(y.shape)\n",
    "\t\tself.w = np.zeros(n_features)\n",
    "\t\tself.K = np.dot(X, X.T)\n",
    "\t\tloss_t = []\n",
    "\n",
    "\t\tfor _ in range(self.max_iter):\n",
    "\t\t\talpha_prev = np.copy(self.alpha)\n",
    "\n",
    "\t\t\tfor i in range(n_samples):\n",
    "\t\t\t\tE_i = self.compute_error(X, y, i)\n",
    "\t\t\t\tif (y[i] * E_i < -self.epsilon and self.alpha[i] < self.C) or (y[i] * E_i > self.epsilon and self.alpha[i] > 0):\n",
    "\t\t\t\t\t# 这里的i和j与上面公式中的i和j反过来了，先选i再选与i误差最大的j\n",
    "\t\t\t\t\tj = self.select_j(i, n_samples)\n",
    "\t\t\t\t\tE_j = self.compute_error(X, y, j)\n",
    "\n",
    "\t\t\t\t\talpha_i_old, alpha_j_old = self.alpha[i], self.alpha[j]\n",
    "\n",
    "\t\t\t\t\tif y[i] != y[j]:\n",
    "\t\t\t\t\t\tL = max(0, alpha_j_old - alpha_i_old)\n",
    "\t\t\t\t\t\tH = min(self.C, self.C + alpha_j_old - alpha_i_old)\n",
    "\t\t\t\t\telse:\n",
    "\t\t\t\t\t\tL = max(0, alpha_i_old + alpha_j_old - self.C)\n",
    "\t\t\t\t\t\tH = min(self.C, alpha_i_old + alpha_j_old)\n",
    "\t\t\t\t\tif L == H:\n",
    "\t\t\t\t\t\tcontinue\n",
    "\n",
    "\t\t\t\t\teta = 2 * self.K[i, j] - self.K[i, i] - self.K[j, j]\n",
    "\t\t\t\t\tif eta >= 0:\n",
    "\t\t\t\t\t\tcontinue\n",
    "\n",
    "\t\t\t\t\tself.alpha[j] -= y[j] * (E_i - E_j) / eta\n",
    "\t\t\t\t\tself.alpha[j] = max(L, min(H, self.alpha[j]))\n",
    "\t\t\t\t\tif np.abs(self.alpha[j] - alpha_j_old) < self.epsilon:\n",
    "\t\t\t\t\t\tcontinue\n",
    "\n",
    "\t\t\t\t\tself.alpha[i] += y[i] * y[j] * (alpha_j_old - self.alpha[j])\n",
    "\n",
    "\t\t\t\t\tb1 = self.b - E_i - y[i] * (self.alpha[i] - alpha_i_old) * self.K[i, i] - y[j] * (self.alpha[j] - alpha_j_old) * self.K[i, j]\n",
    "\t\t\t\t\tb2 = self.b - E_j - y[i] * (self.alpha[i] - alpha_i_old) * self.K[i, j] - y[j] * (self.alpha[j] - alpha_j_old) * self.K[j, j]\n",
    "\n",
    "\t\t\t\t\tif 0 < self.alpha[i] < self.C:\n",
    "\t\t\t\t\t\tself.b = b1\n",
    "\t\t\t\t\telif 0 < self.alpha[j] < self.C:\n",
    "\t\t\t\t\t\tself.b = b2\n",
    "\t\t\t\t\telse:\n",
    "\t\t\t\t\t\tself.b = (b1 + b2) / 2\n",
    "\n",
    "\t\t\tloss = self.alpha.sum() - 0.5 * ((self.alpha * y).T @ X @ X.T @ (self.alpha * y))[0][0]   \n",
    "\t\t\tloss_t.append(np.abs(loss))     #    self.compute_loss(X, y)  \n",
    "\n",
    "\t\t\tdiff = np.linalg.norm(self.alpha - alpha_prev)\n",
    "\t\t\tif (diff < self.epsilon) and (_ > 0):\n",
    "\t\t\t\tbreak\n",
    "\t\t\t# loss_t.append(np.linalg.norm(self.alpha))\n",
    "\n",
    "\t\tself.w = self.compute_w(X, y)\n",
    "\n",
    "\t\tif(self.plot):\t\n",
    "\t\t\tfig, ax = plt.subplots(figsize=(10, 6))\n",
    "\t\t\tax.plot(np.arange(len(loss_t)), loss_t)\n",
    "\t\t\tax.set_xlabel('Iterations')\n",
    "\t\t\tax.set_ylabel('alpha')\n",
    "\t\t\tax.set_title('Alpha Curve')\n",
    "\t\t\tplt.show()\t\n",
    "\n",
    "\tdef compute_w(self, X, y):\n",
    "\t\treturn np.sum((y * self.alpha) * X, axis=0).reshape(self.dim, 1)\n",
    "\n",
    "\tdef compute_error(self, X, y, i):\n",
    "\t\tf_xi = np.dot(self.w, X[i]) + self.b\n",
    "\t\tE_i = f_xi - y[i]\n",
    "\t\tw1 = (self.w).reshape(X.shape[1], 1)\n",
    "\t\tself.errors = (X @ w1) - y\n",
    "\t\tself.errors += self.b\n",
    "\t\treturn E_i\n",
    "\t\"\"\"\n",
    "\tdef select_j(self, i, n_samples, E_i):\n",
    "\t\tj = i\n",
    "\t\twhile j == i:\n",
    "\t\t\tj = np.random.randint(0, n_samples)\n",
    "\t\treturn j\n",
    "\t\"\"\"\n",
    "\t\n",
    "\tdef select_j(self, i, n_samples):\n",
    "\t\tgap = self.errors - self.errors[i][0]\n",
    "\t\tgap = np.abs(gap)\n",
    "\t\t# j = np.argmax(gap, axis=0)[0]\n",
    "\t\tm = np.max(gap)\n",
    "\t\tindex = np.where(m == gap)\n",
    "\t\trand = np.random.randint(0, len(index[0]))\n",
    "\t\tj = index[0][rand]\n",
    "\n",
    "\t\twhile j == i:\n",
    "\t\t\tj = np.random.randint(0, n_samples)\t\n",
    "\n",
    "\t\treturn j\n",
    "\n",
    "\tdef predict(self, X):\n",
    "\t\treturn np.dot(X, self.w) + self.b\n",
    "\n",
    "\tdef score(self, X, y):\n",
    "\t\tpredictions = np.sign(self.predict(X))\n",
    "\t\treturn np.mean(predictions == y)"
   ]
  },
  {
   "cell_type": "markdown",
   "metadata": {},
   "source": [
    "# construct and train your models"
   ]
  },
  {
   "cell_type": "code",
   "execution_count": 21,
   "metadata": {},
   "outputs": [
    {
     "name": "stdout",
     "output_type": "stream",
     "text": [
      "mislabel = 0.0349\n"
     ]
    },
    {
     "data": {
      "image/png": "[encoded data removed]",
      "text/plain": [
       "<Figure size 1000x600 with 1 Axes>"
      ]
     },
     "metadata": {},
     "output_type": "display_data"
    },
    {
     "name": "stdout",
     "output_type": "stream",
     "text": [
      "accuracy = 0.9592\n"
     ]
    }
   ],
   "source": [
    "# generate data\n",
    "# X_data, y_data, mislabel = generate_data() \n",
    "\n",
    "# split data\n",
    "# generate data\n",
    "dim, num = (20, 10000)\n",
    "np.random.seed(0)\n",
    "X_data, y_data, mislabel = generate_data(dim, num)\n",
    "print('mislabel = {}'.format(mislabel))\n",
    "\n",
    "indices = np.arange(len(X_data))\n",
    "np.random.shuffle(indices)\n",
    "split = int(len(X_data) * 0.75)\n",
    "# train : test = 3 : 1\n",
    "train_index = indices[:split]\n",
    "test_index = indices[split:]\n",
    "X_train, y_train = X_data[train_index], y_data[train_index]\n",
    "X_test, y_test = X_data[test_index], y_data[test_index]\n",
    "\n",
    "model1 = SVM1(dim)\n",
    "model1.fit(X_train, y_train)\n",
    "print('accuracy = {:.4f}'.format(model1.score(X_test, y_test)))\n"
   ]
  },
  {
   "cell_type": "code",
   "execution_count": 114,
   "metadata": {},
   "outputs": [
    {
     "name": "stdout",
     "output_type": "stream",
     "text": [
      "mislabel:0.022\n"
     ]
    },
    {
     "data": {
      "image/png": "[encoded data removed]",
      "text/plain": [
       "<Figure size 1000x600 with 1 Axes>"
      ]
     },
     "metadata": {},
     "output_type": "display_data"
    },
    {
     "name": "stdout",
     "output_type": "stream",
     "text": [
      "accuracy:0.9080\n"
     ]
    }
   ],
   "source": [
    "dim, num = (10, 1000)\n",
    "np.random.seed(0)\n",
    "X_data, y_data, mislabel = generate_data(dim, num)\n",
    "print('mislabel:{}'.format(mislabel))\n",
    "\n",
    "# split data\n",
    "indices = np.arange(len(X_data))\n",
    "np.random.shuffle(indices)\n",
    "split = int(len(X_data) * 0.75)\n",
    "train_index = indices[:split]\n",
    "test_index = indices[split:]\n",
    "X_train, y_train = X_data[train_index], y_data[train_index]\n",
    "X_test, y_test = X_data[test_index], y_data[test_index]\n",
    "# constrcut model and train (remember record time)\n",
    "model1 = SVM2(dim)\n",
    "model1.fit(X_train, y_train)\n",
    "print('accuracy:{:.4f}'.format(model1.score(X_test, y_test)))\n"
   ]
  },
  {
   "cell_type": "markdown",
   "metadata": {},
   "source": [
    "# predict and compare your results"
   ]
  },
  {
   "cell_type": "code",
   "execution_count": 115,
   "metadata": {},
   "outputs": [
    {
     "name": "stdout",
     "output_type": "stream",
     "text": [
      "mislabel:0.0349\n",
      "accuracy:0.9588\n"
     ]
    }
   ],
   "source": [
    "# sklearn (20维 10000样本数据集)\n",
    "from sklearn.svm import LinearSVC\n",
    "\n",
    "# generate data\n",
    "dim, num = (20, 10000)\n",
    "np.random.seed(0)\n",
    "X_data, y_data, mislabel = generate_data(dim, num)\n",
    "print('mislabel:{}'.format(mislabel))\n",
    "\n",
    "# split data\n",
    "indices = np.arange(len(X_data))\n",
    "np.random.shuffle(indices)\n",
    "split = int(len(X_data) * 0.75)\n",
    "train_index = indices[:split]\n",
    "test_index = indices[split:]\n",
    "X_train, y_train = X_data[train_index], y_data[train_index]\n",
    "X_test, y_test = X_data[test_index], y_data[test_index]\n",
    "\n",
    "# constrcut model and train (remember record time)\n",
    "modelSVM = LinearSVC(fit_intercept=0, dual=False)\n",
    "modelSVM.fit(X_train, y_train.flatten())\n",
    "print('accuracy:{:.4f}'.format(modelSVM.score(X_test, y_test)))"
   ]
  },
  {
   "cell_type": "code",
   "execution_count": 116,
   "metadata": {},
   "outputs": [
    {
     "name": "stdout",
     "output_type": "stream",
     "text": [
      "mislabel:0.022\n",
      "accuracy:0.9760\n"
     ]
    }
   ],
   "source": [
    "from sklearn.svm import LinearSVC\n",
    "\n",
    "# generate data\n",
    "dim, num = (10, 1000)\n",
    "np.random.seed(0)\n",
    "X_data, y_data, mislabel = generate_data(dim, num)\n",
    "print('mislabel:{}'.format(mislabel))\n",
    "\n",
    "# split data\n",
    "indices = np.arange(len(X_data))\n",
    "np.random.shuffle(indices)\n",
    "split = int(len(X_data) * 0.75)\n",
    "train_index = indices[:split]\n",
    "test_index = indices[split:]\n",
    "X_train, y_train = X_data[train_index], y_data[train_index]\n",
    "X_test, y_test = X_data[test_index], y_data[test_index]\n",
    "\n",
    "# constrcut model and train (remember record time)\n",
    "modelSVM = LinearSVC(fit_intercept=0, dual=False)\n",
    "modelSVM.fit(X_train, y_train.flatten())\n",
    "print('accuracy:{:.4f}'.format(modelSVM.score(X_test, y_test)))"
   ]
  },
  {
   "cell_type": "code",
   "execution_count": 117,
   "metadata": {},
   "outputs": [
    {
     "name": "stdout",
     "output_type": "stream",
     "text": [
      "mislabel:0.022\n",
      "LinearSVC accuracy: 0.9760\n",
      "LinearSVC time: 0.0009999275207519531s\n",
      "CustomModel1 accuracy: 0.9680\n",
      "CustomModel1 time: 0.012002706527709961s\n",
      "CustomModel2 accuracy: 0.9080\n",
      "CustomModel2 time: 21.421135902404785s\n"
     ]
    }
   ],
   "source": [
    "import time\n",
    "# 单次的数据集对比\n",
    "dim, num = (10, 1000)\n",
    "np.random.seed(0)\n",
    "X_data, y_data, mislabel = generate_data(dim, num)\n",
    "print('mislabel:{}'.format(mislabel))\n",
    "\n",
    "# split data\n",
    "indices = np.arange(len(X_data))\n",
    "np.random.shuffle(indices)\n",
    "split = int(len(X_data) * 0.75)\n",
    "train_index = indices[:split]\n",
    "test_index = indices[split:]\n",
    "X_train, y_train = X_data[train_index], y_data[train_index]\n",
    "X_test, y_test = X_data[test_index], y_data[test_index]\n",
    "# constrcut model and train (remember record time)\n",
    "modelSVM = LinearSVC(fit_intercept = False, dual=False)\n",
    "model1 = SVM1(dim, plot = False)\n",
    "model2 = SVM2(dim, plot = False)\n",
    "\n",
    "time_svm_start = time.time()\n",
    "modelSVM.fit(X_train, y_train.ravel())\n",
    "time_svm_end = time.time()\n",
    "\n",
    "time_model2_start = time.time()\n",
    "model2.fit(X_train, y_train)\n",
    "time_model2_end = time.time()\n",
    "\n",
    "time_model1_start = time.time()\n",
    "model1.fit(X_train, y_train)\n",
    "time_model1_end = time.time()\n",
    "\n",
    "print('LinearSVC accuracy: {:.4f}'.format(modelSVM.score(X_test, y_test)))\n",
    "print(f'LinearSVC time: {time_svm_end - time_svm_start}s')\n",
    "print('CustomModel1 accuracy: {:.4f}'.format(model1.score(X_test, y_test)))\n",
    "print(f'CustomModel1 time: {time_model1_end - time_model1_start}s')\n",
    "print('CustomModel2 accuracy: {:.4f}'.format(model2.score(X_test, y_test)))\n",
    "print(f'CustomModel2 time: {time_model2_end - time_model2_start}s')"
   ]
  },
  {
   "cell_type": "code",
   "execution_count": 118,
   "metadata": {},
   "outputs": [
    {
     "name": "stdout",
     "output_type": "stream",
     "text": [
      "mislabel = 0.029\n",
      "LinearSVC accuracy: 0.9528\n",
      "CustomModel1 accuracy: 0.9548\n",
      "CustomModel2 accuracy: 0.9455\n"
     ]
    }
   ],
   "source": [
    "from sklearn.svm import LinearSVC\n",
    "# 四折交叉验证法\n",
    "dim, num = (10, 1000)\n",
    "np.random.seed(8)\n",
    "X_data, y_data, mislabel = generate_data(dim, num)\n",
    "print('mislabel = {}'.format(mislabel))\n",
    "full_data = np.hstack((X_data, y_data.reshape(-1, 1)))\n",
    "\n",
    "class_1_samples = full_data[(y_data == 1.0).flatten(), :]\n",
    "class_0_samples = full_data[(y_data != 1.0).flatten(), :]\n",
    "num_class_1 = class_1_samples.shape[0]\n",
    "num_class_0 = class_0_samples.shape[0]\n",
    "\n",
    "modelSVM_accuracay = []\n",
    "model1_accuracay = []\n",
    "model2_accuracay = []\n",
    "modelSVM = LinearSVC(fit_intercept = False, dual=False)\n",
    "model1 = SVM1(dim, plot = False)\n",
    "model2 = SVM2(dim, plot = False)\n",
    "for fold in range(4):    # shuffle\n",
    "    np.random.shuffle(class_1_samples)\n",
    "    np.random.shuffle(class_0_samples)\n",
    "    for fold_inner in range(4):\n",
    "        test_indices_1 = range(fold_inner * num_class_1 // 4, (fold_inner + 1) * num_class_1 // 4)\n",
    "        train_indices_1 = set(range(num_class_1)) - set(test_indices_1)\n",
    "        \n",
    "        test_indices_0 = range(fold_inner * num_class_0 // 4, (fold_inner + 1) * num_class_0 // 4)\n",
    "        train_indices_0 = set(range(num_class_0)) - set(test_indices_0)\n",
    "        \n",
    "        # Create training and testing sets\n",
    "        training_set_1 = class_1_samples[list(train_indices_1)]\n",
    "        testing_set_1 = class_1_samples[list(test_indices_1)]\n",
    "        \n",
    "        training_set_0 = class_0_samples[list(train_indices_0)]\n",
    "        testing_set_0 = class_0_samples[list(test_indices_0)]\n",
    "        \n",
    "        # Combine and prepare the final training and testing data\n",
    "        X_train, y_train = np.vstack((training_set_1, training_set_0))[:, :-1], np.vstack((training_set_1, training_set_0))[:, -1]\n",
    "        X_test, y_test = np.vstack((testing_set_1, testing_set_0))[:, :-1], np.vstack((testing_set_1, testing_set_0))[:, -1]\n",
    "        \n",
    "        # Train models and record accuracy\n",
    "        modelSVM.fit(X_train, y_train.ravel())\n",
    "        model2.fit(X_train, y_train.reshape(X_train.shape[0], 1))\n",
    "        model1.fit(X_train, y_train.reshape(X_train.shape[0], 1))\n",
    "        \n",
    "        modelSVM_accuracay.append(modelSVM.score(X_test, y_test.ravel()))\n",
    "        model1_accuracay.append(model1.score(X_test, y_test.reshape(X_test.shape[0], 1)))\n",
    "        model2_accuracay.append(model2.score(X_test, y_test.reshape(X_test.shape[0], 1)))\n",
    "\n",
    "print('LinearSVC accuracy: {:.4f}'.format(np.mean(modelSVM_accuracay)))\n",
    "print('CustomModel1 accuracy: {:.4f}'.format(np.mean(model1_accuracay)))\n",
    "print('CustomModel2 accuracy: {:.4f}'.format(np.mean(model2_accuracay)))"
   ]
  }
 ],
 "metadata": {
  "kernelspec": {
   "display_name": "Python 3",
   "language": "python",
   "name": "python3"
  },
  "language_info": {
   "codemirror_mode": {
    "name": "ipython",
    "version": 3
   },
   "file_extension": ".py",
   "mimetype": "text/x-python",
   "name": "python",
   "nbconvert_exporter": "python",
   "pygments_lexer": "ipython3",
   "version": "3.9.13"
  },
  "toc": {
   "base_numbering": 1,
   "nav_menu": {},
   "number_sections": true,
   "sideBar": true,
   "skip_h1_title": false,
   "title_cell": "Table of Contents",
   "title_sidebar": "Contents",
   "toc_cell": false,
   "toc_position": {},
   "toc_section_display": true,
   "toc_window_display": false
  }
 },
 "nbformat": 4,
 "nbformat_minor": 4
}
